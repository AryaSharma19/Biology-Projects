{
 "cells": [
  {
   "cell_type": "markdown",
   "metadata": {},
   "source": [
    "### find the profile matrix for the following kmers"
   ]
  },
  {
   "cell_type": "code",
   "execution_count": 1,
   "metadata": {},
   "outputs": [],
   "source": [
    "kmer_list = ['TAGATCTGAA', 'TGGATCCGAA', 'TAGACCCGAA', 'TAAATCCGAA', 'TAGGTCCAAA', \n",
    "             'TAGATTCGAA', 'CAGATCCGAA', 'TAGATCCGTA', 'TAGATCCAAA', 'TCGATCCGAA']"
   ]
  },
  {
   "cell_type": "code",
   "execution_count": 2,
   "metadata": {},
   "outputs": [],
   "source": [
    "import numpy as np\n",
    "\n",
    "def get_profile():\n",
    "    k = len(kmer_list[0])\n",
    "    profile = np.zeros((4,k), dtype=int)\n",
    "    for sequence in kmer_list:\n",
    "        position: int = 0\n",
    "        while position < len(sequence):\n",
    "            if sequence[position] == \"A\":\n",
    "                profile[0][position] += 1\n",
    "            if sequence[position] == \"C\":\n",
    "                profile[1][position] += 1\n",
    "            if sequence[position] == \"G\":\n",
    "                profile[2][position] += 1\n",
    "            if sequence[position] == \"T\":\n",
    "                profile[3][position] += 1\n",
    "            position += 1\n",
    "    return profile"
   ]
  },
  {
   "cell_type": "code",
   "execution_count": 4,
   "metadata": {},
   "outputs": [
    {
     "name": "stdout",
     "output_type": "stream",
     "text": [
      "[[ 0  8  1  9  0  0  0  2  9 10]\n",
      " [ 1  1  0  0  1  9  9  0  0  0]\n",
      " [ 0  1  9  1  0  0  0  8  0  0]\n",
      " [ 9  0  0  0  9  1  1  0  1  0]]\n"
     ]
    }
   ],
   "source": [
    "print(get_profile())\n"
   ]
  },
  {
   "cell_type": "code",
   "execution_count": null,
   "metadata": {},
   "outputs": [],
   "source": []
  }
 ],
 "metadata": {
  "kernelspec": {
   "display_name": "Python 3 (ipykernel)",
   "language": "python",
   "name": "python3"
  },
  "language_info": {
   "codemirror_mode": {
    "name": "ipython",
    "version": 3
   },
   "file_extension": ".py",
   "mimetype": "text/x-python",
   "name": "python",
   "nbconvert_exporter": "python",
   "pygments_lexer": "ipython3",
   "version": "3.9.7"
  },
  "vscode": {
   "interpreter": {
    "hash": "625f4a66d7159b85aff78afd3699ec8fbd03d0d2b7fcfa65e1f956a9b36382e8"
   }
  }
 },
 "nbformat": 4,
 "nbformat_minor": 4
}
