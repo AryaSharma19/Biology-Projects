{
 "cells": [
  {
   "cell_type": "markdown",
   "metadata": {},
   "source": [
    "This is a portion of the first Assignment for COMP 555: Bioalgorithms. The cell with the input DNA sequence was the only given code, all functions were implemeted by me. It serves as a good representation for genomic data particularly in the fasta format. The two algorithms implemented below are a brute force transcription factor motif finding algorithm and a modification (branch and bound) that uses recursion and a branching step to eliminate \"bad\" motifs. The Branch and Bound Median String Motif Search should run at least a three times faster with the current input DNA sequences. The concept behind both algorithms was taught in class but the actual implementation was not.  "
   ]
  },
  {
   "cell_type": "code",
   "execution_count": 1,
   "metadata": {},
   "outputs": [],
   "source": [
    "motif_length = 10\n",
    "DNA = [\n",
    "    'tagtggtcttttgagtgtagatctgaagggaaagtatttccaccagttcggggtcacccagcagggcagggtgacttaat',\n",
    "    'cgcgactcggcgctcacagttatcgcacgtttagaccaaaacggagttggatccgaaactggagtttaatcggagtcctt',\n",
    "    'gttacttgtgagcctggttagacccgaaatataattgttggctgcatagcggagctgacatacgagtaggggaaatgcgt',\n",
    "    'aacatcaggctttgattaaacaatttaagcacgtaaatccgaattgacctgatgacaatacggaacatgccggctccggg',\n",
    "    'accaccggataggctgcttattaggtccaaaaggtagtatcgtaataatggctcagccatgtcaatgtgcggcattccac',\n",
    "    'tagattcgaatcgatcgtgtttctccctctgtgggttaacgaggggtccgaccttgctcgcatgtgccgaacttgtaccc',\n",
    "    'gaaatggttcggtgcgatatcaggccgttctcttaacttggcggtgcagatccgaacgtctctggaggggtcgtgcgcta',\n",
    "    'atgtatactagacattctaacgctcgcttattggcggagaccatttgctccactacaagaggctactgtgtagatccgta',\n",
    "    'ttcttacacccttctttagatccaaacctgttggcgccatcttcttttcgagtccttgtacctccatttgctctgatgac',\n",
    "    'ctacctatgtaaaacaacatctactaacgtagtccggtctttcctgatctgccctaacctacaggtcgatccgaaattcg']"
   ]
  },
  {
   "cell_type": "code",
   "execution_count": 2,
   "metadata": {},
   "outputs": [],
   "source": [
    "def hamming_distance(motif, sequence) -> int:\n",
    "    #make sure motif and seq are equal lengths\n",
    "    if len(motif) != len(sequence):\n",
    "        raise ValueError(\"motif and sequence different lengths\")\n",
    "    ham_dist: int = 0\n",
    "    #iterate through the positions\n",
    "    for i in range(0,len(motif)):\n",
    "        #if motif and seq differ at a position, add one to the hamming distance\n",
    "        if motif[i] != sequence[i]:\n",
    "            ham_dist += 1\n",
    "    return ham_dist"
   ]
  },
  {
   "cell_type": "code",
   "execution_count": 3,
   "metadata": {},
   "outputs": [],
   "source": [
    "def scan_line(line: str, motif: str) -> tuple[int, int]:\n",
    "    k = len(motif)\n",
    "    ham_dist: int  = k\n",
    "    position: int  = 0\n",
    "    #had to add the plus 1 to get it to read last kmer\n",
    "    #for a str of len 80\n",
    "    #the range(0,80) is 0-79 and then when you slice the str[69:79]\n",
    "    #you get back a str from 69-78 as both slicing and range() are inclusive start, exclusive end\n",
    "    for i in range(0, len(line)-k + 1):\n",
    "        dist = hamming_distance(motif, line[i:i+k])\n",
    "        if dist < ham_dist:\n",
    "            ham_dist = dist\n",
    "            position = i\n",
    "    return position, ham_dist"
   ]
  },
  {
   "cell_type": "code",
   "execution_count": 5,
   "metadata": {},
   "outputs": [],
   "source": [
    "def scan_and_score(dna, motif) -> tuple[int,list[int]]:\n",
    "    total_score: int = 0\n",
    "    positions: list[int] = []\n",
    "    for i in dna:\n",
    "        position, score = scan_line(i, motif)\n",
    "        total_score += score\n",
    "        positions.append(position)\n",
    "    return total_score, positions"
   ]
  },
  {
   "cell_type": "code",
   "execution_count": 6,
   "metadata": {},
   "outputs": [],
   "source": [
    "results = [\"a\",\"g\",\"c\",\"t\"]\n",
    "depth = 0\n",
    "\n",
    "def MedianStringMotifSearch(dna, k):\n",
    "    #bestMotif is str len(k)\n",
    "    #bestAlignment is the list of the positions at which the best motif is at in the input dna list\n",
    "    #bestDistance is the score\n",
    "    global depth\n",
    "    global results\n",
    "    bases = [\"a\",\"g\",\"c\",\"t\"]\n",
    "    length = len(results)\n",
    "    for i in bases:\n",
    "        j = depth\n",
    "        while j < length:\n",
    "            results.append(results[j] + i)\n",
    "            j += 1\n",
    "    depth = length\n",
    "    if len(results[-1]) == k:\n",
    "        bestMotif = \"\"\n",
    "        bestAlignment = []\n",
    "        bestDistance = k * len(dna)\n",
    "        for pattern in results[length:]:\n",
    "            score, positions = scan_and_score(dna, pattern)\n",
    "            if score < bestDistance:\n",
    "                bestDistance = score\n",
    "                bestAlignment = positions\n",
    "                bestMotif = pattern     \n",
    "        return bestMotif, bestAlignment, bestDistance\n",
    "    return MedianStringMotifSearch(dna, k)"
   ]
  },
  {
   "cell_type": "code",
   "execution_count": 18,
   "metadata": {},
   "outputs": [],
   "source": [
    "results = [\"a\",\"g\",\"c\",\"t\"]\n",
    "depth = 0\n",
    "\n",
    "def BranchAndBoundMedianStringMotifSearch(dna, k):\n",
    "    #variable declaration\n",
    "    global depth\n",
    "    global results\n",
    "    bestMotif = \"\"                  #bestMotif is str len(k)\n",
    "    bestAlignment = []              #list of the positions at which the best motif is at in the input dna list\n",
    "    bestDistance = k * len(dna)     #bestDistance is the score\n",
    "    bases = [\"a\",\"g\",\"c\",\"t\"]\n",
    "    \n",
    "    #kmer enumeration\n",
    "    length = len(results)\n",
    "    for i in bases:\n",
    "        j = depth\n",
    "        while j < length:\n",
    "            results.append(results[j] + i)\n",
    "            j += 1\n",
    "    depth = length\n",
    "    \n",
    "    #get current kmer length\n",
    "    current_kmer_length: int = len(results[-1])\n",
    "    \n",
    "    #prune step\n",
    "    if (current_kmer_length > int(k/2)) and (current_kmer_length < k):\n",
    "        worst_case: int = (k - current_kmer_length) * len(dna)\n",
    "        temp_best_score = current_kmer_length * len(dna)\n",
    "        for pattern in results[length:]:\n",
    "            score, positions = scan_and_score(dna, pattern)\n",
    "            if score < temp_best_score:\n",
    "                temp_best_score = score\n",
    "            if score > temp_best_score + worst_case:\n",
    "                results.remove(pattern)\n",
    "    \n",
    "    #base case\n",
    "    if current_kmer_length == k:    \n",
    "        for pattern in results[length:]:\n",
    "            score, positions = scan_and_score(dna, pattern)\n",
    "            if score < bestDistance:\n",
    "                bestDistance = score\n",
    "                bestAlignment = positions\n",
    "                bestMotif = pattern     \n",
    "        return bestMotif, bestAlignment, bestDistance\n",
    "    \n",
    "    #recursive case\n",
    "    return BranchAndBoundMedianStringMotifSearch(dna, k)"
   ]
  }
 ],
 "metadata": {
  "kernelspec": {
   "display_name": "Python 3 (ipykernel)",
   "language": "python",
   "name": "python3"
  },
  "language_info": {
   "codemirror_mode": {
    "name": "ipython",
    "version": 3
   },
   "file_extension": ".py",
   "mimetype": "text/x-python",
   "name": "python",
   "nbconvert_exporter": "python",
   "pygments_lexer": "ipython3",
   "version": "3.9.7"
  },
  "vscode": {
   "interpreter": {
    "hash": "625f4a66d7159b85aff78afd3699ec8fbd03d0d2b7fcfa65e1f956a9b36382e8"
   }
  }
 },
 "nbformat": 4,
 "nbformat_minor": 4
}
